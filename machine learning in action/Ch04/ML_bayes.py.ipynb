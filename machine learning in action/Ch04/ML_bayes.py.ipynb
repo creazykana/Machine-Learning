{
 "cells": [
  {
   "cell_type": "markdown",
   "id": "b0dcdc09",
   "metadata": {},
   "source": [
    "# 概述"
   ]
  },
  {
   "cell_type": "markdown",
   "id": "53d3702d",
   "metadata": {},
   "source": [
    "贝叶斯决策理论  \n",
    "核心思想：选择具有最高概率的决策。  \n",
    "另一个假设：每个特征同样重要。"
   ]
  },
  {
   "cell_type": "markdown",
   "id": "b0a791ee",
   "metadata": {},
   "source": [
    "条件概率 ： $p(X|Y) = p(XY) / p(Y)$  \n",
    "贝叶斯准则 ： 已知$p(x|c)$，要求$p(c|x)$  \n",
    "$$p(c|x) = \\frac{p(x|c)p(c)}{p(x)}$$"
   ]
  },
  {
   "cell_type": "markdown",
   "id": "fff6ac1b",
   "metadata": {},
   "source": [
    "给定某个点(x, y)，则该数据点来自类别$c_1$的概率表示为$p(c_1|x, y)$  \n",
    "应用贝叶斯准则得到：  \n",
    "$$p(c_i|x, y) = \\frac{p(x, y|c_i)p(c_i)}{p(x, y)}$$"
   ]
  },
  {
   "cell_type": "markdown",
   "id": "ad9343d3",
   "metadata": {},
   "source": [
    "# 使用python进行文本分类"
   ]
  },
  {
   "cell_type": "markdown",
   "id": "d40d2655",
   "metadata": {},
   "source": [
    "## 准备数据：从文本中构建词向量"
   ]
  },
  {
   "cell_type": "code",
   "execution_count": 5,
   "id": "97577913",
   "metadata": {
    "collapsed": true
   },
   "outputs": [
    {
     "data": {
      "text/plain": [
       "[0,\n",
       " 0,\n",
       " 1,\n",
       " 0,\n",
       " 0,\n",
       " 1,\n",
       " 0,\n",
       " 0,\n",
       " 0,\n",
       " 0,\n",
       " 0,\n",
       " 0,\n",
       " 0,\n",
       " 0,\n",
       " 1,\n",
       " 1,\n",
       " 0,\n",
       " 0,\n",
       " 0,\n",
       " 1,\n",
       " 1,\n",
       " 0,\n",
       " 0,\n",
       " 0,\n",
       " 1,\n",
       " 0,\n",
       " 0,\n",
       " 0,\n",
       " 0,\n",
       " 0,\n",
       " 0,\n",
       " 0]"
      ]
     },
     "execution_count": 5,
     "metadata": {},
     "output_type": "execute_result"
    }
   ],
   "source": [
    "# 词表到向量的转换函数\n",
    "def loadDataSet():\n",
    "    postingList=[['my', 'dog', 'has', 'flea', 'problems', 'help', 'please'],\n",
    "                 ['maybe', 'not', 'take', 'him', 'to', 'dog', 'park', 'stupid'],\n",
    "                 ['my', 'dalmation', 'is', 'so', 'cute', 'I', 'love', 'him'],\n",
    "                 ['stop', 'posting', 'stupid', 'worthless', 'garbage'],\n",
    "                 ['mr', 'licks', 'ate', 'my', 'steak', 'how', 'to', 'stop', 'him'],\n",
    "                 ['quit', 'buying', 'worthless', 'dog', 'food', 'stupid']]\n",
    "    classVec = [0, 1, 0, 1, 0, 1]    #1 is abusive, 0 not\n",
    "    return postingList, classVec\n",
    "\n",
    "def createVocabList(dataSet):\n",
    "    vocabSet = set([])\n",
    "    for document in dataSet:\n",
    "        vocabSet = vocabSet | set(document) # 并集！！！\n",
    "    return list(vocabSet)\n",
    "\n",
    "def setOfWords2Vec(vocabList, inputSet):\n",
    "    returnVec = [0] * len(vocabList)\n",
    "    for word in inputSet:\n",
    "        if word in vocabList:\n",
    "            returnVec[vocabList.index(word)] = 1 # 对应位置的值赋为1\n",
    "        else:\n",
    "            print(\" the word: %s is not in my Vocabulary!\" % word)\n",
    "    return returnVec\n",
    "\n",
    "listOPosts, listClasses = loadDataSet()\n",
    "myVocabList = createVocabList(listOPosts)\n",
    "setOfWords2Vec(myVocabList, listOPosts[0])"
   ]
  },
  {
   "cell_type": "markdown",
   "id": "4fb6f7e2",
   "metadata": {},
   "source": [
    "## 训练算法：从词向量计算概率"
   ]
  },
  {
   "cell_type": "markdown",
   "id": "f7003d9f",
   "metadata": {},
   "source": [
    "$$p(c_i|w) = \\frac{p(w|c_i)p(c_i)}{p(w)}$$  \n",
    "$p(c_i)$：类别i出现的概率  \n",
    "$p(w|c_i)$：将$w$展开为一个特征可以写作$p(w_0,w_1,w_2,w_3,...,w_n|c_i)$，此外假设所有词相互独立，则  \n",
    "$p(w|c_i)=p(w_0,w_1,w_2,w_3,...,w_n|c_i)=p(w_0|c_i)p(w_1|c_i)p(w_2|c_i)p(w_3|c_i)...p(w_n|c_i)$"
   ]
  },
  {
   "cell_type": "code",
   "execution_count": 11,
   "id": "3222c59f",
   "metadata": {},
   "outputs": [],
   "source": [
    "import numpy as np\n",
    "# 朴素贝叶斯分类器训练函数\n",
    "def trainNB0(trainMatrix, trainCategory):\n",
    "    numTrainDocs = len(trainMatrix) # 样本的数量\n",
    "    numWords = len(trainMatrix[0]) # 样本的向量数，在这即为文本样本所有单词数\n",
    "    pAbusive = sum(trainCategory) / float(numTrainDocs) # p(c_i)，其实len(trainCategory)也一样\n",
    "    p0Num = np.zeros(numWords) # 创建一个单词特征长度的零向量\n",
    "    p1Num = np.zeros(numWords)\n",
    "    p0Denom = 0\n",
    "    p1Denom = 0\n",
    "    for i in range(numTrainDocs):\n",
    "        if trainCategory[i] == 1: \n",
    "            p1Num += trainMatrix[i] # 统计样本每个词特征出现次数，累加\n",
    "            p1Denom += sum(trainMatrix[i]) # 统计样本的词汇数量，累加\n",
    "        else:\n",
    "            p0Num += trainMatrix[i]\n",
    "            p0Denom += sum(trainMatrix[i])\n",
    "    p1Vect = p1Num / p1Denom # 统计每个词特征在该类别中出现的次数\n",
    "    p0Vect = p0Num / p0Denom\n",
    "    return p0Vect, p1Vect, pAbusive\n",
    "\n",
    "listOPosts, listClasses = loadDataSet() # 读取数据\n",
    "myVocabList = createVocabList(listOPosts) # 获取文档所有出现过的词（去重）\n",
    "trainMat = [] # 把文档转化为词向量作为输入样本\n",
    "for postinDoc in listOPosts:\n",
    "    trainMat.append(setOfWords2Vec(myVocabList, postinDoc))\n",
    "p0V, p1V, pAb = trainNB0(trainMat, listClasses)"
   ]
  },
  {
   "cell_type": "code",
   "execution_count": 19,
   "id": "ed34453c",
   "metadata": {},
   "outputs": [
    {
     "data": {
      "text/plain": [
       "array([0.        , 0.05263158, 0.        , 0.05263158, 0.05263158,\n",
       "       0.        , 0.        , 0.05263158, 0.05263158, 0.05263158,\n",
       "       0.05263158, 0.05263158, 0.        , 0.        , 0.10526316,\n",
       "       0.        , 0.        , 0.05263158, 0.05263158, 0.        ,\n",
       "       0.        , 0.        , 0.        , 0.15789474, 0.        ,\n",
       "       0.        , 0.        , 0.05263158, 0.10526316, 0.        ,\n",
       "       0.        , 0.05263158])"
      ]
     },
     "execution_count": 19,
     "metadata": {},
     "output_type": "execute_result"
    }
   ],
   "source": [
    "p1V"
   ]
  },
  {
   "cell_type": "markdown",
   "id": "0bd6d7c6",
   "metadata": {},
   "source": [
    "## 测试算法：根据现实情况修改分类器"
   ]
  },
  {
   "cell_type": "code",
   "execution_count": 79,
   "id": "9e9b8e3f",
   "metadata": {},
   "outputs": [],
   "source": [
    "# 优化1：考虑若一个概率值为0会导致最后乘机也为0，更改初始化分子为1分母为0\n",
    "# 优化2：太多很小的数相乘会导致下溢出，通过对乘积取自然对数解决\n",
    "# ln(a*b)=ln(a)+ln(b)，且f(x)与ln(f(x))同增同减，在相同点取到极值\n",
    "\n",
    "import numpy as np\n",
    "# 朴素贝叶斯分类器训练函数\n",
    "def trainNB0(trainMatrix, trainCategory):\n",
    "    numTrainDocs = len(trainMatrix) # 样本的数量\n",
    "    numWords = len(trainMatrix[0]) # 样本的向量数，在这即为文本样本所有单词数\n",
    "    pAbusive = sum(trainCategory) / float(numTrainDocs) # p(c_i)，其实len(trainCategory)也一样\n",
    "    # 考虑若一个概率值为0会导致最后乘机也为0，更改初始化分子为1分母为0\n",
    "    p0Num = np.ones(numWords) # 创建一个单词特征长度的1向量\n",
    "    p1Num = np.ones(numWords)\n",
    "    p0Denom = 2\n",
    "    p1Denom = 2\n",
    "    for i in range(numTrainDocs):\n",
    "        if trainCategory[i] == 1: \n",
    "            p1Num += trainMatrix[i] # 统计样本每个词特征出现次数，累加\n",
    "            p1Denom += sum(trainMatrix[i]) # 统计样本的词汇数量，累加\n",
    "        else:\n",
    "            p0Num += trainMatrix[i]\n",
    "            p0Denom += sum(trainMatrix[i])\n",
    "    p1Vect = np.log(p1Num / p1Denom) # 统计每个词特征在该类别中出现的次数\n",
    "    p0Vect = np.log(p0Num / p0Denom) # 避免下溢出套上ln()\n",
    "    return p0Vect, p1Vect, pAbusive\n",
    "\n",
    "listOPosts, listClasses = loadDataSet() # 读取数据\n",
    "myVocabList = createVocabList(listOPosts) # 获取文档所有出现过的词（去重）\n",
    "trainMat = [] # 把文档转化为词向量作为输入样本\n",
    "for postinDoc in listOPosts:\n",
    "    trainMat.append(setOfWords2Vec(myVocabList, postinDoc))\n",
    "p0V, p1V, pAb = trainNB0(trainMat, listClasses)"
   ]
  },
  {
   "cell_type": "code",
   "execution_count": 25,
   "id": "0b01986d",
   "metadata": {},
   "outputs": [
    {
     "name": "stdout",
     "output_type": "stream",
     "text": [
      "['love', 'my', 'dalmation'] classified as :  0\n",
      "['stupid', 'garbage'] classified as :  1\n"
     ]
    }
   ],
   "source": [
    "# 朴素贝叶斯分类函数\n",
    "def classifyNB(vec2Classify, p0Vect, p1Vect, pClass1):\n",
    "    p1 = sum(vec2Classify * p1Vect) + np.log(pClass1) # vec2Classify为样本词特征向量（存在为1不存在为0），相乘结果为样本出现的词对应类别中的概率\n",
    "    p0 = sum(vec2Classify * p0Vect) + np.log(1 - pClass1) # 由于套上了ln所有相乘变相加\n",
    "    if p1>p0:\n",
    "        return 1\n",
    "    else:\n",
    "        return 0\n",
    "    \n",
    "def testingNB():\n",
    "    listOPosts, listClasses = loadDataSet() # 读取数据\n",
    "    myVocabList = createVocabList(listOPosts) # 获取文档所有出现过的词（去重）\n",
    "    trainMat = [] # 把文档转化为词向量作为输入样本\n",
    "    for postinDoc in listOPosts:\n",
    "        trainMat.append(setOfWords2Vec(myVocabList, postinDoc))\n",
    "    p0V, p1V, pAb = trainNB0(trainMat, listClasses)\n",
    "    testEntry = ['love', 'my', 'dalmation']\n",
    "    thisDoc = np.array(setOfWords2Vec(myVocabList, testEntry))\n",
    "    print(testEntry, \"classified as : \", classifyNB(thisDoc, p0V, p1V, pAb))\n",
    "    testEntry = ['stupid', 'garbage']\n",
    "    thisDoc = np.array(setOfWords2Vec(myVocabList, testEntry))\n",
    "    print(testEntry, \"classified as : \", classifyNB(thisDoc, p0V, p1V, pAb))\n",
    "\n",
    "testingNB()"
   ]
  },
  {
   "cell_type": "markdown",
   "id": "dd497f2c",
   "metadata": {},
   "source": [
    "## 准备数据：文档词袋模型"
   ]
  },
  {
   "cell_type": "markdown",
   "id": "3c9627db",
   "metadata": {},
   "source": [
    "上述将每个词是否出现作为特征，可以描述为词集模型  \n",
    "词袋模型则为记录一个词可能在文档中出现不止一次"
   ]
  },
  {
   "cell_type": "code",
   "execution_count": 27,
   "id": "6c5e30ff",
   "metadata": {},
   "outputs": [],
   "source": [
    "# 朴素贝叶斯词袋模型\n",
    "def bagOfWords2Vec(vocabList, inputSet):\n",
    "    returnVec = [0] * len(vocabList)\n",
    "    for word in inputSet:\n",
    "        if word in vocabList:\n",
    "            returnVec[vocabList.index(word)] += 1 # 对应位置的值加1\n",
    "    return returnVec"
   ]
  },
  {
   "cell_type": "markdown",
   "id": "df20e815",
   "metadata": {},
   "source": [
    "# 示例：使用朴素贝叶斯过滤垃圾邮件"
   ]
  },
  {
   "cell_type": "markdown",
   "id": "69442bbc",
   "metadata": {},
   "source": [
    "## 测试算法：使用朴素贝叶斯进行交叉验证"
   ]
  },
  {
   "cell_type": "code",
   "execution_count": 102,
   "id": "85097758",
   "metadata": {},
   "outputs": [
    {
     "name": "stdout",
     "output_type": "stream",
     "text": [
      "classification error ['experience', 'with', 'biggerpenis', 'today', 'grow', 'inches', 'more', 'the', 'safest', 'most', 'effective', 'methods', 'of_penisen1argement', 'save', 'your', 'time', 'and', 'money', 'bettererections', 'with', 'effective', 'ma1eenhancement', 'products', 'ma1eenhancement', 'supplement', 'trusted', 'millions', 'buy', 'today']\n",
      "the error rate is : 0.1\n"
     ]
    }
   ],
   "source": [
    "def textParse(bigString):\n",
    "    import re\n",
    "    listOfTokens = re.split(r'\\W+', bigString)\n",
    "    return [tok.lower() for tok in listOfTokens if len(tok)>2]\n",
    "\n",
    "def spamTest():\n",
    "    # 读取样本\n",
    "    docList = []; classList=[]; fullText = []\n",
    "    for i in [j for j in range(1, 26) if j not in [6, 17, 23]]: # 文件6有点问题\n",
    "        with open(r'./email/spam/%d.txt' % i) as file1:\n",
    "            wordList = textParse(file1.read())\n",
    "        docList.append(wordList)\n",
    "        fullText.extend(wordList)\n",
    "        classList.append(1)\n",
    "        with open(r'./email/ham/%d.txt' % i) as file0:\n",
    "            wordList = textParse(file0.read())\n",
    "        docList.append(wordList)\n",
    "        fullText.extend(wordList)\n",
    "        classList.append(0)\n",
    "    vocabList = createVocabList(docList) # 变量并集\n",
    "    # 随机抽取训练集、测试集（留存交叉验证）\n",
    "    trainingSet = list(range(44))\n",
    "    testSet = []\n",
    "    for i in range(10):\n",
    "        randIndex = int(np.random.uniform(0, len(trainingSet)))\n",
    "        testSet.append(trainingSet[randIndex])\n",
    "        del(trainingSet[randIndex])\n",
    "    trainMat = []\n",
    "    trainClasses = []\n",
    "    # 训练模型\n",
    "    for docIndex in trainingSet:\n",
    "        trainMat.append(setOfWords2Vec(vocabList, docList[docIndex]))\n",
    "        trainClasses.append(classList[docIndex])\n",
    "    p0V, p1V, pSpam = trainNB0(np.array(trainMat), np.array(trainClasses))\n",
    "\n",
    "    # 测试模型\n",
    "    errorCount = 0\n",
    "    for docIndex in testSet:\n",
    "        wordVector = setOfWords2Vec(vocabList, docList[docIndex])\n",
    "        if classifyNB(np.array(wordVector), p0V, p1V, pSpam) != classList[docIndex]:\n",
    "            errorCount += 1\n",
    "            print('classification error', docList[docIndex])\n",
    "    print(\"the error rate is :\", errorCount/len(testSet))\n",
    "    \n",
    "spamTest()"
   ]
  },
  {
   "cell_type": "markdown",
   "id": "b84c52ea",
   "metadata": {},
   "source": [
    "# 示例：使用朴素贝叶斯分类器从个人广告中获取区域倾向"
   ]
  },
  {
   "cell_type": "markdown",
   "id": "d08d60ab",
   "metadata": {},
   "source": [
    "## 收集数据：导入RSS源"
   ]
  },
  {
   "cell_type": "code",
   "execution_count": 111,
   "id": "3f4d3ffc",
   "metadata": {},
   "outputs": [],
   "source": [
    "# RSS源分类器及高频词去除函数\n",
    "def calcMostFreq(vocabList, fullText):\n",
    "    import operator\n",
    "    freqDict = {}\n",
    "    for token in vocabList:\n",
    "        freqDict[token] = fullText.count(token) # 统计每个词出现的频数\n",
    "    sortedFreq = sorted(freqDict.iteritems(), key=operator.itemgetter(1), reverse=True)\n",
    "    return sortedFreq[:30] # 返回出现频数最高的30个词\n",
    "\n",
    "# 直接复制\n",
    "def localWords(feed1, feed0):\n",
    "    import feedparser\n",
    "    docList=[]; classList = []; fullText =[]\n",
    "    minLen = min(len(feed1['entries']), len(feed0['entries']))\n",
    "    # 读取样本\n",
    "    for i in range(minLen):\n",
    "        wordList = textParse(feed1['entries'][i]['summary'])\n",
    "        docList.append(wordList)\n",
    "        fullText.extend(wordList)\n",
    "        classList.append(1) #NY is class 1\n",
    "        wordList = textParse(feed0['entries'][i]['summary'])\n",
    "        docList.append(wordList)\n",
    "        fullText.extend(wordList)\n",
    "        classList.append(0)\n",
    "        \n",
    "    vocabList = createVocabList(docList)#create vocabulary\n",
    "    top30Words = calcMostFreq(vocabList,fullText)   #remove top 30 words\n",
    "    for pairW in top30Words:\n",
    "        if pairW in vocabList:\n",
    "            vocabList.remove(pairW)\n",
    "    trainingSet = range(2*minLen); testSet=[]           #create test set\n",
    "    for i in range(20):\n",
    "        randIndex = int(random.uniform(0,len(trainingSet)))\n",
    "        testSet.append(trainingSet[randIndex])\n",
    "        del(trainingSet[randIndex])  \n",
    "    trainMat=[]; trainClasses = []\n",
    "    for docIndex in trainingSet:#train the classifier (get probs) trainNB0\n",
    "        trainMat.append(bagOfWords2VecMN(vocabList, docList[docIndex]))\n",
    "        trainClasses.append(classList[docIndex])\n",
    "    p0V,p1V,pSpam = trainNB0(array(trainMat),array(trainClasses))\n",
    "    errorCount = 0\n",
    "    for docIndex in testSet:        #classify the remaining items\n",
    "        wordVector = bagOfWords2VecMN(vocabList, docList[docIndex])\n",
    "        if classifyNB(array(wordVector),p0V,p1V,pSpam) != classList[docIndex]:\n",
    "            errorCount += 1\n",
    "    print('the error rate is: ',float(errorCount)/len(testSet))\n",
    "    return vocabList,p0V,p1V\n",
    "\n",
    "def getTopWords(ny,sf):\n",
    "    import operator\n",
    "    vocabList,p0V,p1V=localWords(ny,sf)\n",
    "    topNY=[]; topSF=[]\n",
    "    for i in range(len(p0V)):\n",
    "        if p0V[i] > -6.0 : topSF.append((vocabList[i],p0V[i]))\n",
    "        if p1V[i] > -6.0 : topNY.append((vocabList[i],p1V[i]))\n",
    "    sortedSF = sorted(topSF, key=lambda pair: pair[1], reverse=True)\n",
    "    print(\"SF**SF**SF**SF**SF**SF**SF**SF**SF**SF**SF**SF**SF**SF**SF**SF**\")\n",
    "    for item in sortedSF:\n",
    "        print(item[0])\n",
    "    sortedNY = sorted(topNY, key=lambda pair: pair[1], reverse=True)\n",
    "    print(\"NY**NY**NY**NY**NY**NY**NY**NY**NY**NY**NY**NY**NY**NY**NY**NY**\")\n",
    "    for item in sortedNY:\n",
    "        print(item[0])"
   ]
  }
 ],
 "metadata": {
  "kernelspec": {
   "display_name": "Python 3",
   "language": "python",
   "name": "python3"
  },
  "language_info": {
   "codemirror_mode": {
    "name": "ipython",
    "version": 3
   },
   "file_extension": ".py",
   "mimetype": "text/x-python",
   "name": "python",
   "nbconvert_exporter": "python",
   "pygments_lexer": "ipython3",
   "version": "3.8.8"
  }
 },
 "nbformat": 4,
 "nbformat_minor": 5
}
